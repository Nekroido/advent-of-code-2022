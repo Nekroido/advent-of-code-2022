{
 "cells": [
  {
   "attachments": {},
   "cell_type": "markdown",
   "metadata": {
    "dotnet_interactive": {
     "language": "fsharp"
    },
    "polyglot_notebook": {
     "kernelName": "fsharp"
    }
   },
   "source": [
    "# Day 7: No Space Left On Device"
   ]
  },
  {
   "attachments": {},
   "cell_type": "markdown",
   "metadata": {
    "dotnet_interactive": {
     "language": "fsharp"
    },
    "polyglot_notebook": {
     "kernelName": "fsharp"
    }
   },
   "source": [
    "## Part 1\n",
    "\n",
    "You can hear birds chirping and raindrops hitting leaves as the expedition proceeds. Occasionally, you can even hear much louder sounds in the distance; how big do the animals get out here, anyway?\n",
    "\n",
    "The device the Elves gave you has problems with more than just its communication system. You try to run a system update:\n",
    "\n",
    "```\n",
    "$ system-update --please --pretty-please-with-sugar-on-top\n",
    "Error: No space left on device\n",
    "```\n",
    "\n",
    "Perhaps you can delete some files to make space for the update?\n",
    "\n",
    "You browse around the filesystem to assess the situation and save the resulting terminal output (your puzzle input). For example:\n",
    "\n",
    "```\n",
    "$ cd /\n",
    "$ ls\n",
    "dir a\n",
    "14848514 b.txt\n",
    "8504156 c.dat\n",
    "dir d\n",
    "$ cd a\n",
    "$ ls\n",
    "dir e\n",
    "29116 f\n",
    "2557 g\n",
    "62596 h.lst\n",
    "$ cd e\n",
    "$ ls\n",
    "584 i\n",
    "$ cd ..\n",
    "$ cd ..\n",
    "$ cd d\n",
    "$ ls\n",
    "4060174 j\n",
    "8033020 d.log\n",
    "5626152 d.ext\n",
    "7214296 k\n",
    "```\n",
    "\n",
    "The filesystem consists of a tree of files (plain data) and directories (which can contain other directories or files). The outermost directory is called /. You can navigate around the filesystem, moving into or out of directories and listing the contents of the directory you're currently in.\n",
    "\n",
    "Within the terminal output, lines that begin with `$` are **commands you executed**, very much like some modern computers:\n",
    "\n",
    "- `cd` means **change directory**. This changes which directory is the current directory, but the specific result depends on the argument:\n",
    "- - `cd x` moves **in** one level: it looks in the current directory for the directory named x and makes it the current directory.\n",
    "- - `cd ..` moves out one level: it finds the directory that contains the current directory, then makes that directory the current directory.\n",
    "- - `cd /` switches the current directory to the outermost directory, `/`.\n",
    "- `ls` means list. It prints out all of the files and directories immediately contained by the current directory:\n",
    "- - `123 abc` means that the current directory contains a file named `abc` with size `123`.\n",
    "- - `dir xyz` means that the current directory contains a directory named `xyz`.\n",
    "\n",
    "Given the commands and output in the example above, you can determine that the filesystem looks visually like this:\n",
    "\n",
    "```\n",
    "- / (dir)\n",
    "  - a (dir)\n",
    "    - e (dir)\n",
    "      - i (file, size=584)\n",
    "    - f (file, size=29116)\n",
    "    - g (file, size=2557)\n",
    "    - h.lst (file, size=62596)\n",
    "  - b.txt (file, size=14848514)\n",
    "  - c.dat (file, size=8504156)\n",
    "  - d (dir)\n",
    "    - j (file, size=4060174)\n",
    "    - d.log (file, size=8033020)\n",
    "    - d.ext (file, size=5626152)\n",
    "    - k (file, size=7214296)\n",
    "```\n",
    "\n",
    "Here, there are four directories: `/` (the outermost directory), `a` and `d` (which are in `/`), and `e` (which is in `a`). These directories also contain files of various sizes.\n",
    "\n",
    "Since the disk is full, your first step should probably be to find directories that are good candidates for deletion. To do this, you need to determine the **total size** of each directory. The total size of a directory is the sum of the sizes of the files it contains, directly or indirectly. (Directories themselves do not count as having any intrinsic size.)\n",
    "\n",
    "The total sizes of the directories above can be found as follows:\n",
    "\n",
    "- The total size of directory `e` is **584** because it contains a single file `i` of size 584 and no other directories.\n",
    "- The directory `a` has total size **94853** because it contains files `f` (size 29116), `g` (size 2557), and `h.lst` (size 62596), plus file `i` indirectly (`a` contains `e` which contains `i`).\n",
    "- Directory `d` has total size **24933642**.\n",
    "- As the outermost directory, `/` contains every file. Its total size is **48381165**, the sum of the size of every file.\n",
    "\n",
    "To begin, find all of the directories with a total size of at most **100000**, then calculate the sum of their total sizes. In the example above, these directories are `a` and `e`; the sum of their total sizes is `95437` (94853 + 584). (As in this example, this process can count files more than once!)\n",
    "\n",
    "Find all of the directories with a total size of at most 100000. **What is the sum of the total sizes of those directories?**"
   ]
  },
  {
   "cell_type": "code",
   "execution_count": 1,
   "metadata": {
    "dotnet_interactive": {
     "language": "fsharp"
    },
    "vscode": {
     "languageId": "dotnet-interactive.fsharp"
    }
   },
   "outputs": [],
   "source": [
    "let input = \"...\""
   ]
  },
  {
   "attachments": {},
   "cell_type": "markdown",
   "metadata": {
    "dotnet_interactive": {
     "language": "fsharp"
    },
    "polyglot_notebook": {
     "kernelName": "fsharp"
    }
   },
   "source": [
    "### Helpers"
   ]
  },
  {
   "cell_type": "code",
   "execution_count": 2,
   "metadata": {
    "dotnet_interactive": {
     "language": "fsharp"
    },
    "polyglot_notebook": {
     "kernelName": "fsharp"
    },
    "vscode": {
     "languageId": "dotnet-interactive.fsharp"
    }
   },
   "outputs": [],
   "source": [
    "module String =\n",
    "    open System\n",
    "    open System.Text.RegularExpressions\n",
    "\n",
    "    let (|Regex|_|) pattern input =\n",
    "        let m = Regex.Match(input, pattern)\n",
    "        if m.Success then Some(List.tail [ for g in m.Groups -> g.Value ])\n",
    "        else None\n",
    "\n",
    "    let inline splitAndTrim (separators: string []) (x: string) =\n",
    "        x.Split(separators, StringSplitOptions.RemoveEmptyEntries ||| StringSplitOptions.TrimEntries)\n",
    "\n",
    "    let inline replace (subject: string) (replacemenet: string) (x: string) =\n",
    "        x.Replace(subject, replacemenet)\n",
    "\n",
    "module Path =\n",
    "    let separator = \"/\"\n",
    "    let rootDir = \"/\"\n",
    "\n",
    "    let append sub path =\n",
    "        sprintf\n",
    "            \"%s%s%s\"\n",
    "            path\n",
    "            separator\n",
    "            sub\n",
    "        |> String.replace \"//\" \"/\"\n",
    "            \n",
    "    let pop path =\n",
    "        let bits =\n",
    "            path\n",
    "            |> String.splitAndTrim [| separator |]\n",
    "\n",
    "        let asPath =\n",
    "            String.concat separator\n",
    "            >> (sprintf \"%s%s\" rootDir)\n",
    "        \n",
    "        match bits |> Seq.length = 0 with\n",
    "        | true -> rootDir, rootDir\n",
    "        | false ->\n",
    "            bits |> Seq.last, bits[0..^1] |> asPath"
   ]
  },
  {
   "attachments": {},
   "cell_type": "markdown",
   "metadata": {
    "dotnet_interactive": {
     "language": "fsharp"
    },
    "polyglot_notebook": {
     "kernelName": "fsharp"
    }
   },
   "source": [
    "### Modeling"
   ]
  },
  {
   "cell_type": "code",
   "execution_count": 3,
   "metadata": {
    "dotnet_interactive": {
     "language": "fsharp"
    },
    "vscode": {
     "languageId": "dotnet-interactive.fsharp"
    }
   },
   "outputs": [],
   "source": [
    "type Action =\n",
    "    | GoToRoot\n",
    "    | GoUp\n",
    "    | EnterDir of dirname: string\n",
    "    | List of items: string list\n",
    "    \n",
    "    static member toAction =\n",
    "        let parse cmd output =\n",
    "            match cmd with\n",
    "            | \"cd /\" -> GoToRoot\n",
    "            | \"cd ..\" -> GoUp\n",
    "            | \"ls\" -> output |> List\n",
    "            | String.Regex \"^cd\\s+(.+)$\" [ dirname ] -> dirname |> EnterDir\n",
    "            | _ -> failwith $\"undefined command {cmd}\"\n",
    "\n",
    "        function\n",
    "        | cmd::output -> parse cmd output\n",
    "        | [] -> failwith \"empty input\"\n",
    "\n",
    "    static member parseTerminalLog =\n",
    "        String.splitAndTrim [| \"$\" |]\n",
    "        >> List.ofArray\n",
    "        >> List.map (String.splitAndTrim [| \"\\r\\n\"; \"\\r\"; \"\\n\" |] >> List.ofArray >> Action.toAction)\n",
    "\n",
    "type Tree<'leaf, 'branch> =\n",
    "    | Leaf of 'leaf\n",
    "    | Branch of 'branch * subtree: Tree<'leaf, 'branch> list\n",
    "\n",
    "type FileItem = { name: string; size: bigint }\n",
    "type DirItem = { path: string }\n",
    "\n",
    "type FileSystemItem = Tree<FileItem, DirItem>"
   ]
  },
  {
   "cell_type": "code",
   "execution_count": 4,
   "metadata": {
    "dotnet_interactive": {
     "language": "fsharp"
    },
    "vscode": {
     "languageId": "dotnet-interactive.fsharp"
    }
   },
   "outputs": [],
   "source": [
    "module Tree =\n",
    "    let rec cata leafFn branchFn (tree: Tree<'l,'b>) : 'r =\n",
    "        match tree with\n",
    "        | Leaf leaf -> leafFn leaf\n",
    "        | Branch (branch, subtree) ->\n",
    "            branchFn branch (subtree |> List.map (cata leafFn branchFn))\n",
    "\n",
    "module FileSystemItem =\n",
    "    type t' = FileSystemItem\n",
    "    \n",
    "    let makeFile name size : t' = { name = name; size = size } |> Leaf\n",
    "    let makeDir path subtree : t' = ({ path = path }, subtree) |> Branch\n",
    "\n",
    "    let rec setEntries (path: string) (entries: t' list) (fs: t') =\n",
    "        let setEntries' = setEntries path entries\n",
    "        match fs with\n",
    "        | Leaf _ as leaf -> leaf\n",
    "        | Branch (dir, _) when dir.path = path ->\n",
    "            Branch (dir, entries)\n",
    "        | Branch (dir, subtree) ->\n",
    "            Branch (dir, subtree |> List.map setEntries')\n",
    "\n",
    "    let fromString prefix =\n",
    "        let asPath x = prefix |> Path.append x\n",
    "        function\n",
    "        | String.Regex \"(\\d+)\\s+([^\\n\\r]+)\" [ size; name ] ->\n",
    "            makeFile (asPath name) (size |> bigint.Parse )\n",
    "        | String.Regex \"dir\\s+([^\\n\\r]+)\" [ name; ] ->\n",
    "            makeDir (asPath name) []\n",
    "        | fmt -> failwith $\"unsupported format {fmt}\""
   ]
  },
  {
   "attachments": {},
   "cell_type": "markdown",
   "metadata": {
    "dotnet_interactive": {
     "language": "fsharp"
    },
    "polyglot_notebook": {
     "kernelName": "fsharp"
    }
   },
   "source": [
    "### Application"
   ]
  },
  {
   "cell_type": "code",
   "execution_count": 5,
   "metadata": {
    "dotnet_interactive": {
     "language": "fsharp"
    },
    "vscode": {
     "languageId": "dotnet-interactive.fsharp"
    }
   },
   "outputs": [],
   "source": [
    "let testinput = \"$ cd /\n",
    "$ ls\n",
    "dir a\n",
    "14848514 b.txt\n",
    "8504156 c.dat\n",
    "dir d\n",
    "$ cd a\n",
    "$ ls\n",
    "dir e\n",
    "29116 f\n",
    "2557 g\n",
    "62596 h.lst\n",
    "$ cd e\n",
    "$ ls\n",
    "584 i\n",
    "$ cd ..\n",
    "$ cd ..\n",
    "$ cd d\n",
    "$ ls\n",
    "4060174 j\n",
    "8033020 d.log\n",
    "5626152 d.ext\n",
    "7214296 k\""
   ]
  },
  {
   "cell_type": "code",
   "execution_count": 6,
   "metadata": {
    "dotnet_interactive": {
     "language": "fsharp"
    },
    "vscode": {
     "languageId": "dotnet-interactive.fsharp"
    }
   },
   "outputs": [
    {
     "data": {
      "text/html": [
       "<div class=\"dni-plaintext\"><pre>2061777</pre></div><style>\r\n",
       ".dni-code-hint {\r\n",
       "    font-style: italic;\r\n",
       "    overflow: hidden;\r\n",
       "    white-space: nowrap;\r\n",
       "}\r\n",
       ".dni-treeview {\r\n",
       "    white-space: nowrap;\r\n",
       "}\r\n",
       ".dni-treeview td {\r\n",
       "    vertical-align: top;\r\n",
       "    text-align: start;\r\n",
       "}\r\n",
       "details.dni-treeview {\r\n",
       "    padding-left: 1em;\r\n",
       "}\r\n",
       "table td {\r\n",
       "    text-align: start;\r\n",
       "}\r\n",
       "table tr { \r\n",
       "    vertical-align: top; \r\n",
       "    margin: 0em 0px;\r\n",
       "}\r\n",
       "table tr td pre \r\n",
       "{ \r\n",
       "    vertical-align: top !important; \r\n",
       "    margin: 0em 0px !important;\r\n",
       "} \r\n",
       "table th {\r\n",
       "    text-align: start;\r\n",
       "}\r\n",
       "</style>"
      ]
     },
     "metadata": {},
     "output_type": "display_data"
    }
   ],
   "source": [
    "\n",
    "let root = FileSystemItem.makeDir \"/\" []\n",
    "\n",
    "let apply ((currentPath, fs) as state) action =\n",
    "    match action with\n",
    "    | GoToRoot -> \"/\", fs\n",
    "    | List entries ->\n",
    "        currentPath, (fs |> FileSystemItem.setEntries currentPath (entries |> List.map (FileSystemItem.fromString currentPath)))\n",
    "    | EnterDir dirname -> (currentPath |> Path.append dirname), fs\n",
    "    | GoUp -> (currentPath |> Path.pop |> snd), fs\n",
    "\n",
    "let dirSize fs =\n",
    "    let fFile (file: FileItem) =\n",
    "        file.size |> int64\n",
    "    let fDir (dir: DirItem) subtree =\n",
    "        subtree |> List.sum |> int64\n",
    "\n",
    "    Tree.cata fFile fDir fs\n",
    "\n",
    "let rec calculateDirSize =\n",
    "    function\n",
    "    | Leaf _ -> List.empty\n",
    "    | Branch (dir, subtree) as branch ->\n",
    "        List.collect calculateDirSize subtree\n",
    "        |> List.append [ (dir, dirSize branch) ]\n",
    "\n",
    "let atMost size = (>=) size\n",
    "\n",
    "//testInput\n",
    "input\n",
    "|> Action.parseTerminalLog\n",
    "|> List.fold apply (\"/\", root)\n",
    "|> snd\n",
    "|> calculateDirSize\n",
    "|> List.filter (snd >> atMost 100_000)\n",
    "|> List.sumBy snd"
   ]
  },
  {
   "cell_type": "markdown",
   "metadata": {},
   "source": [
    "## Part 2\n",
    "\n",
    "Now, you're ready to choose a directory to delete.\n",
    "\n",
    "The total disk space available to the filesystem is `70'000'000`. To run the update, you need unused space of at least `30'000'000`. You need to find a directory you can delete that will free up enough space to run the update.\n",
    "\n",
    "In the example above, the total size of the outermost directory (and thus the total amount of used space) is `48381165`; this means that the size of the unused space must currently be `21618835`, which isn't quite the `30000000` required by the update. Therefore, the update still requires a directory with total size of at least `8381165` to be deleted before it can run.\n",
    "\n",
    "To achieve this, you have the following options:\n",
    "\n",
    "- Delete directory `e`, which would increase unused space by `584`.\n",
    "- Delete directory `a`, which would increase unused space by `94853`.\n",
    "- Delete directory `d`, which would increase unused space by `24933642`.\n",
    "- Delete directory `/`, which would increase unused space by `48381165`.\n",
    "\n",
    "Directories `e` and `a` are both too small; deleting them would not free up enough space. However, directories `d` and `/` are both big enough! Between these, choose the smallest: `d`, increasing unused space by `24933642`.\n",
    "\n",
    "Find the smallest directory that, if deleted, would free up enough space on the filesystem to run the update. What is the total size of that directory?"
   ]
  },
  {
   "cell_type": "code",
   "execution_count": 7,
   "metadata": {
    "dotnet_interactive": {
     "language": "fsharp"
    },
    "vscode": {
     "languageId": "dotnet-interactive.fsharp"
    }
   },
   "outputs": [
    {
     "data": {
      "text/html": [
       "<div class=\"dni-plaintext\"><pre>4473403</pre></div><style>\r\n",
       ".dni-code-hint {\r\n",
       "    font-style: italic;\r\n",
       "    overflow: hidden;\r\n",
       "    white-space: nowrap;\r\n",
       "}\r\n",
       ".dni-treeview {\r\n",
       "    white-space: nowrap;\r\n",
       "}\r\n",
       ".dni-treeview td {\r\n",
       "    vertical-align: top;\r\n",
       "    text-align: start;\r\n",
       "}\r\n",
       "details.dni-treeview {\r\n",
       "    padding-left: 1em;\r\n",
       "}\r\n",
       "table td {\r\n",
       "    text-align: start;\r\n",
       "}\r\n",
       "table tr { \r\n",
       "    vertical-align: top; \r\n",
       "    margin: 0em 0px;\r\n",
       "}\r\n",
       "table tr td pre \r\n",
       "{ \r\n",
       "    vertical-align: top !important; \r\n",
       "    margin: 0em 0px !important;\r\n",
       "} \r\n",
       "table th {\r\n",
       "    text-align: start;\r\n",
       "}\r\n",
       "</style>"
      ]
     },
     "metadata": {},
     "output_type": "display_data"
    }
   ],
   "source": [
    "let maxSize = 70_000_000L\n",
    "let requiredMinSize = 30_000_000L\n",
    "\n",
    "let dirs =\n",
    "    input\n",
    "    |> Action.parseTerminalLog\n",
    "    |> List.fold apply (\"/\", root)\n",
    "    |> snd\n",
    "    |> calculateDirSize\n",
    "\n",
    "let takenSize = dirs |> List.head |> snd\n",
    "let availableSize = maxSize - takenSize\n",
    "let targetSize = requiredMinSize - availableSize\n",
    "\n",
    "let atLeast size = (<=) size\n",
    "\n",
    "dirs\n",
    "|> List.filter (snd >> atLeast targetSize)\n",
    "|> List.sortBy snd\n",
    "|> List.head\n",
    "|> snd"
   ]
  }
 ],
 "metadata": {
  "kernelspec": {
   "display_name": ".NET (C#)",
   "language": "C#",
   "name": ".net-csharp"
  },
  "polyglot_notebook": {
   "kernelInfo": {
    "defaultKernelName": "csharp",
    "items": [
     {
      "aliases": [
       "c#",
       "C#"
      ],
      "languageName": "C#",
      "name": "csharp"
     },
     {
      "aliases": [
       "frontend"
      ],
      "name": "vscode"
     },
     {
      "aliases": [],
      "name": ".NET"
     },
     {
      "aliases": [
       "f#",
       "F#"
      ],
      "languageName": "F#",
      "name": "fsharp"
     },
     {
      "aliases": [],
      "languageName": "HTML",
      "name": "html"
     },
     {
      "aliases": [
       "js"
      ],
      "languageName": "JavaScript",
      "name": "javascript"
     },
     {
      "aliases": [],
      "languageName": "KQL",
      "name": "kql"
     },
     {
      "aliases": [],
      "languageName": "Mermaid",
      "name": "mermaid"
     },
     {
      "aliases": [
       "powershell"
      ],
      "languageName": "PowerShell",
      "name": "pwsh"
     },
     {
      "aliases": [],
      "languageName": "SQL",
      "name": "sql"
     },
     {
      "aliases": [],
      "name": "value"
     },
     {
      "aliases": [],
      "name": "webview"
     }
    ]
   }
  }
 },
 "nbformat": 4,
 "nbformat_minor": 2
}
