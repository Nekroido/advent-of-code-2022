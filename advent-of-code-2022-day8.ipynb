{
 "cells": [
  {
   "cell_type": "markdown",
   "metadata": {},
   "source": [
    "# Day 8: Treetop Tree House"
   ]
  },
  {
   "cell_type": "markdown",
   "metadata": {},
   "source": [
    "## Part 1\n",
    "\n",
    "The expedition comes across a peculiar patch of tall trees all planted carefully in a grid. The Elves explain that a previous expedition planted these trees as a reforestation effort. Now, they're curious if this would be a good location for a tree house.\n",
    "\n",
    "First, determine whether there is enough tree cover here to keep a tree house **hidden**. To do this, you need to count the number of trees that are **visible from outside the grid** when looking directly along a row or column.\n",
    "\n",
    "The Elves have already launched a quadcopter to generate a map with the height of each tree (your puzzle input). For example:\n",
    "\n",
    "```\n",
    "30373\n",
    "25512\n",
    "65332\n",
    "33549\n",
    "35390\n",
    "```\n",
    "\n",
    "Each tree is represented as a single digit whose value is its height, where `0` is the shortest and `9` is the tallest.\n",
    "\n",
    "A tree is **visible** if all of the other trees between it and an edge of the grid are **shorter** than it. Only consider trees in the same row or column; that is, only look up, down, left, or right from any given tree.\n",
    "\n",
    "All of the trees around the edge of the grid are **visible** - since they are already on the edge, there are no trees to block the view. In this example, that only leaves the interior nine trees to consider:\n",
    "\n",
    "- The top-left `5` is **visible** from the left and top. (It isn't visible from the right or bottom since other trees of height `5` are in the way.)\n",
    "- The top-middle `5` is **visible** from the top and right.\n",
    "- The top-right `1` is **not visible** from any direction; for it to be visible, there would need to only be trees of height `0` between it and an edge.\n",
    "- The left-middle 5 is **visible**, but only from the right.\n",
    "- The center `3` is **not visible** from any direction; for it to be visible, there would need to be only trees of at most height `2` between it and an edge.\n",
    "- The right-middle `3` is **visible** from the right.\n",
    "- In the bottom row, the middle `5` is **visible**, but the `3` and `4` are **not**.\n",
    "\n",
    "With 16 trees visible on the edge and another 5 visible in the interior, a total of `21` trees are visible in this arrangement.\n",
    "\n",
    "Consider your map; **how many trees are visible from outside the grid?**"
   ]
  },
  {
   "cell_type": "markdown",
   "metadata": {},
   "source": [
    "### Helpers"
   ]
  },
  {
   "cell_type": "code",
   "execution_count": 1,
   "metadata": {
    "dotnet_interactive": {
     "language": "fsharp"
    },
    "vscode": {
     "languageId": "dotnet-interactive.fsharp"
    }
   },
   "outputs": [],
   "source": [
    "module String =\n",
    "    open System\n",
    "    open System.Text.RegularExpressions\n",
    "\n",
    "    let (|Regex|_|) pattern input =\n",
    "        let m = Regex.Match(input, pattern)\n",
    "        if m.Success then Some(List.tail [ for g in m.Groups -> g.Value ])\n",
    "        else None\n",
    "\n",
    "    let inline splitAndTrim (separators: string []) (x: string) =\n",
    "        x.Split(separators, StringSplitOptions.RemoveEmptyEntries ||| StringSplitOptions.TrimEntries)\n",
    "\n",
    "module Tuple =\n",
    "    let inline uncurry f (x, y) = f x y\n",
    "\n",
    "module Array2D = \n",
    "    let toJagged<'a> (arr: 'a[,]) : 'a [][] = \n",
    "        [| for x in 0 .. Array2D.length1 arr - 1 do\n",
    "               yield [| for y in 0 .. Array2D.length2 arr - 1 -> arr.[x, y] |] |]\n",
    "\n",
    "    let tryGet array index1 index2 =\n",
    "        try\n",
    "            Array2D.get array index1 index2\n",
    "            |> Some\n",
    "        with\n",
    "        | exn -> None\n",
    "\n",
    "module Seq =\n",
    "    let split (f : 'a -> 'a -> bool) (s : seq<'a>) =\n",
    "        if s |> Seq.isEmpty then\n",
    "            Seq.empty\n",
    "        else\n",
    "            let len = s |> Seq.length\n",
    "            let last = s |> Seq.item (len-1)\n",
    "            let pairs = s |> Seq.pairwise |> Seq.map (fun (x, y) -> x, Some(y))\n",
    "            let pairs' = Seq.append pairs [last, None]\n",
    "            seq {\n",
    "                let acc = ref(Seq.empty)\n",
    "                for x, y in pairs' do\n",
    "                    if (y.IsSome && (f x y.Value)) || y.IsNone then\n",
    "                        yield (Seq.append !acc [x])\n",
    "                        acc := Seq.empty\n",
    "                    else\n",
    "                        acc := Seq.append !acc [x] }"
   ]
  },
  {
   "cell_type": "code",
   "execution_count": 2,
   "metadata": {
    "dotnet_interactive": {
     "language": "fsharp"
    },
    "vscode": {
     "languageId": "dotnet-interactive.fsharp"
    }
   },
   "outputs": [],
   "source": [
    "let input = \"...\""
   ]
  },
  {
   "cell_type": "code",
   "execution_count": 3,
   "metadata": {
    "dotnet_interactive": {
     "language": "fsharp"
    },
    "vscode": {
     "languageId": "dotnet-interactive.fsharp"
    }
   },
   "outputs": [],
   "source": [
    "let testInput = \"30373\n",
    "25512\n",
    "65332\n",
    "33549\n",
    "35390\""
   ]
  },
  {
   "cell_type": "markdown",
   "metadata": {},
   "source": [
    "### Modeling"
   ]
  },
  {
   "cell_type": "code",
   "execution_count": 4,
   "metadata": {
    "dotnet_interactive": {
     "language": "fsharp"
    },
    "vscode": {
     "languageId": "dotnet-interactive.fsharp"
    }
   },
   "outputs": [],
   "source": [
    "type Grid = int[,]\n",
    "\n",
    "module Tree =\n",
    "    let isVisible = (<=)\n",
    "    let isTaller = (>)\n",
    "\n",
    "    let visibleOnly (height: int) (items: int list) : int list =\n",
    "        items\n",
    "        |> Seq.tryFindIndex (isVisible height)\n",
    "        |> function\n",
    "            | Some indexFistSame ->\n",
    "                items\n",
    "                |> List.splitAt (indexFistSame + 1)\n",
    "                |> fst\n",
    "            | None -> items\n",
    "\n",
    "module Grid =\n",
    "    let getAdjacent (i: int) (j: int) (grid: Grid): int seq seq =\n",
    "        let formula = seq {\n",
    "            yield (-1, 0)\n",
    "            yield (0, 1)\n",
    "            yield (1, 0)\n",
    "            yield (0, -1)\n",
    "        }\n",
    "\n",
    "        formula\n",
    "        |> Seq.map (fun (x: int, y: int) ->\n",
    "            1\n",
    "            |> Seq.unfold (fun m ->\n",
    "                let posX = i + (x * m)\n",
    "                let posY = j + (y * m)\n",
    "                Array2D.tryGet grid posX posY\n",
    "                |> Option.map (fun el -> el, (m + 1))))\n",
    "\n",
    "    let fromString =\n",
    "        String.splitAndTrim [| |]\n",
    "        >> List.ofArray\n",
    "        >> List.map (Seq.map (string >> int) >> List.ofSeq)\n",
    "        >> array2D"
   ]
  },
  {
   "cell_type": "code",
   "execution_count": 5,
   "metadata": {
    "dotnet_interactive": {
     "language": "fsharp"
    },
    "vscode": {
     "languageId": "dotnet-interactive.fsharp"
    }
   },
   "outputs": [],
   "source": [
    "let grid =\n",
    "    input\n",
    "    |> Grid.fromString\n",
    "\n",
    "let testGrid =\n",
    "    testInput\n",
    "    |> Grid.fromString"
   ]
  },
  {
   "cell_type": "code",
   "execution_count": 6,
   "metadata": {
    "dotnet_interactive": {
     "language": "fsharp"
    },
    "vscode": {
     "languageId": "dotnet-interactive.fsharp"
    }
   },
   "outputs": [
    {
     "data": {
      "text/html": [
       "<div class=\"dni-plaintext\"><pre>1825</pre></div><style>\r\n",
       ".dni-code-hint {\r\n",
       "    font-style: italic;\r\n",
       "    overflow: hidden;\r\n",
       "    white-space: nowrap;\r\n",
       "}\r\n",
       ".dni-treeview {\r\n",
       "    white-space: nowrap;\r\n",
       "}\r\n",
       ".dni-treeview td {\r\n",
       "    vertical-align: top;\r\n",
       "    text-align: start;\r\n",
       "}\r\n",
       "details.dni-treeview {\r\n",
       "    padding-left: 1em;\r\n",
       "}\r\n",
       "table td {\r\n",
       "    text-align: start;\r\n",
       "}\r\n",
       "table tr { \r\n",
       "    vertical-align: top; \r\n",
       "    margin: 0em 0px;\r\n",
       "}\r\n",
       "table tr td pre \r\n",
       "{ \r\n",
       "    vertical-align: top !important; \r\n",
       "    margin: 0em 0px !important;\r\n",
       "} \r\n",
       "table th {\r\n",
       "    text-align: start;\r\n",
       "}\r\n",
       "</style>"
      ]
     },
     "metadata": {},
     "output_type": "display_data"
    }
   ],
   "source": [
    "let isVisible grid i j what =\n",
    "    grid\n",
    "    |> Grid.getAdjacent i j\n",
    "    |> Seq.exists (fun variants ->\n",
    "        variants\n",
    "        |> Seq.length = 0\n",
    "        |> function\n",
    "        | true -> true\n",
    "        | false -> variants |> Seq.forall (Tree.isTaller what))\n",
    "\n",
    "let isVisible' = isVisible grid\n",
    "\n",
    "grid\n",
    "|> Array2D.mapi isVisible'\n",
    "|> Array2D.toJagged\n",
    "|> Seq.map (Seq.sumBy (fun el -> if el then 1 else 0))\n",
    "|> Seq.sum"
   ]
  },
  {
   "cell_type": "markdown",
   "metadata": {},
   "source": [
    "## Part 2\n",
    "\n",
    "Content with the amount of tree cover available, the Elves just need to know the best spot to build their tree house: they would like to be able to see a lot of **trees**.\n",
    "\n",
    "To measure the viewing distance from a given tree, look up, down, left, and right from that tree; stop if you reach an edge or at the first tree that is the same height or taller than the tree under consideration. (If a tree is right on the edge, at least one of its viewing distances will be zero.)\n",
    "\n",
    "The Elves don't care about distant trees taller than those found by the rules above; the proposed tree house has large eaves to keep it dry, so they wouldn't be able to see higher than the tree house anyway.\n",
    "\n",
    "In the example above, consider the middle `5` in the second row:\n",
    "\n",
    "```\n",
    "30373\n",
    "25512\n",
    "65332\n",
    "33549\n",
    "35390\n",
    "```\n",
    "\n",
    "- Looking up, its view is not blocked; it can see `1` tree (of height `3`).\n",
    "- Looking left, its view is blocked immediately; it can see only `1` tree (of height `5`, right next to it).\n",
    "- Looking right, its view is not blocked; it can see `2` trees.\n",
    "- Looking down, its view is blocked eventually; it can see `2` trees (one of height `3`, then the tree of height `5` that blocks its view).\n",
    "\n",
    "A tree's scenic score is found by multiplying together its viewing distance in each of the four directions. For this tree, this is `4` (found by multiplying `1 * 1 * 2 * 2`).\n",
    "\n",
    "However, you can do even better: consider the tree of height `5` in the middle of the fourth row:\n",
    "\n",
    "```\n",
    "30373\n",
    "25512\n",
    "65332\n",
    "33549\n",
    "35390\n",
    "```\n",
    "\n",
    "- Looking up, its view is blocked at `2` trees (by another tree with a height of `5`).\n",
    "- Looking left, its view is not blocked; it can see `2` trees.\n",
    "- Looking down, its view is also not blocked; it can see `1` tree.\n",
    "- Looking right, its view is blocked at `2` trees (by a massive tree of height `9`).\n",
    "\n",
    "This tree's scenic score is `8` (`2 * 2 * 1 * 2`); this is the ideal spot for the tree house.\n",
    "\n",
    "Consider each tree on your map. **What is the highest scenic score possible for any tree?**"
   ]
  },
  {
   "cell_type": "code",
   "execution_count": 7,
   "metadata": {
    "dotnet_interactive": {
     "language": "fsharp"
    },
    "vscode": {
     "languageId": "dotnet-interactive.fsharp"
    }
   },
   "outputs": [
    {
     "data": {
      "text/html": [
       "<div class=\"dni-plaintext\"><pre>235200</pre></div><style>\r\n",
       ".dni-code-hint {\r\n",
       "    font-style: italic;\r\n",
       "    overflow: hidden;\r\n",
       "    white-space: nowrap;\r\n",
       "}\r\n",
       ".dni-treeview {\r\n",
       "    white-space: nowrap;\r\n",
       "}\r\n",
       ".dni-treeview td {\r\n",
       "    vertical-align: top;\r\n",
       "    text-align: start;\r\n",
       "}\r\n",
       "details.dni-treeview {\r\n",
       "    padding-left: 1em;\r\n",
       "}\r\n",
       "table td {\r\n",
       "    text-align: start;\r\n",
       "}\r\n",
       "table tr { \r\n",
       "    vertical-align: top; \r\n",
       "    margin: 0em 0px;\r\n",
       "}\r\n",
       "table tr td pre \r\n",
       "{ \r\n",
       "    vertical-align: top !important; \r\n",
       "    margin: 0em 0px !important;\r\n",
       "} \r\n",
       "table th {\r\n",
       "    text-align: start;\r\n",
       "}\r\n",
       "</style>"
      ]
     },
     "metadata": {},
     "output_type": "display_data"
    }
   ],
   "source": [
    "let score grid i j (tree: int) =\n",
    "    grid\n",
    "    |> Grid.getAdjacent i j\n",
    "    |> List.ofSeq\n",
    "    |> List.map (List.ofSeq >> Tree.visibleOnly tree >> List.length)\n",
    "    |> Seq.fold (fun acc el -> acc * el) 1\n",
    "\n",
    "let score' = score grid\n",
    "\n",
    "grid\n",
    "|> Array2D.mapi score'\n",
    "|> Array2D.toJagged\n",
    "|> Seq.map Seq.max\n",
    "|> Seq.max"
   ]
  }
 ],
 "metadata": {
  "kernelspec": {
   "display_name": ".NET (C#)",
   "language": "C#",
   "name": ".net-csharp"
  },
  "language_info": {
   "file_extension": ".cs",
   "mimetype": "text/x-csharp",
   "name": "C#",
   "pygments_lexer": "csharp",
   "version": "9.0"
  },
  "orig_nbformat": 4
 },
 "nbformat": 4,
 "nbformat_minor": 2
}
